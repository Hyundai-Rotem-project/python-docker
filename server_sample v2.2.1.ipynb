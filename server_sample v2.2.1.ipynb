{
 "cells": [
  {
   "cell_type": "code",
   "execution_count": null,
   "id": "f43daf15-ce71-464d-8371-197faafe89fb",
   "metadata": {},
   "outputs": [],
   "source": [
    "!pip install flask torch ultralytics"
   ]
  },
  {
   "cell_type": "code",
   "execution_count": null,
   "id": "baafb7c5-dce5-4f01-8332-86d4bc168672",
   "metadata": {},
   "outputs": [
    {
     "name": "stdout",
     "output_type": "stream",
     "text": [
      " * Serving Flask app '__main__'\n",
      " * Debug mode: off\n"
     ]
    },
    {
     "name": "stderr",
     "output_type": "stream",
     "text": [
      "WARNING: This is a development server. Do not use it in a production deployment. Use a production WSGI server instead.\n",
      " * Running on all addresses (0.0.0.0)\n",
      " * Running on http://127.0.0.1:5000\n",
      " * Running on http://192.168.0.51:5000\n",
      "Press CTRL+C to quit\n",
      "127.0.0.1 - - [15/Apr/2025 11:06:09] \"POST /update_obstacle HTTP/1.1\" 200 -\n",
      "127.0.0.1 - - [15/Apr/2025 11:06:09] \"POST /update_obstacle HTTP/1.1\" 200 -\n",
      "127.0.0.1 - - [15/Apr/2025 11:06:09] \"GET /init HTTP/1.1\" 200 -\n"
     ]
    },
    {
     "name": "stdout",
     "output_type": "stream",
     "text": [
      "🪨 Obstacle Data: {'obstacles': []}\n",
      "🪨 Obstacle Data: {'obstacles': []}\n",
      "🛠️ Initialization config sent via /init: {'startMode': 'start', 'blStartX': 60, 'blStartY': 10, 'blStartZ': 27.23, 'rdStartX': 59, 'rdStartY': 10, 'rdStartZ': 280}\n"
     ]
    },
    {
     "name": "stderr",
     "output_type": "stream",
     "text": [
      "127.0.0.1 - - [15/Apr/2025 11:06:14] \"GET /start HTTP/1.1\" 200 -\n"
     ]
    },
    {
     "name": "stdout",
     "output_type": "stream",
     "text": [
      "🚀 /start command received\n"
     ]
    },
    {
     "name": "stderr",
     "output_type": "stream",
     "text": [
      "127.0.0.1 - - [15/Apr/2025 11:06:15] \"GET /start HTTP/1.1\" 200 -\n"
     ]
    },
    {
     "name": "stdout",
     "output_type": "stream",
     "text": [
      "🚀 /start command received\n"
     ]
    },
    {
     "name": "stderr",
     "output_type": "stream",
     "text": [
      "127.0.0.1 - - [15/Apr/2025 11:06:16] \"GET /start HTTP/1.1\" 200 -\n"
     ]
    },
    {
     "name": "stdout",
     "output_type": "stream",
     "text": [
      "🚀 /start command received\n"
     ]
    },
    {
     "name": "stderr",
     "output_type": "stream",
     "text": [
      "127.0.0.1 - - [15/Apr/2025 11:06:17] \"GET /start HTTP/1.1\" 200 -\n"
     ]
    },
    {
     "name": "stdout",
     "output_type": "stream",
     "text": [
      "🚀 /start command received\n"
     ]
    }
   ],
   "source": [
    "from flask import Flask, request, jsonify\n",
    "import os\n",
    "import torch\n",
    "from ultralytics import YOLO\n",
    "\n",
    "app = Flask(__name__)\n",
    "model = YOLO('yolov8n.pt')\n",
    "\n",
    "# Move commands with weights (11+ variations)\n",
    "move_command = [\n",
    "    {\"move\": \"W\", \"weight\": 1.0},\n",
    "    {\"move\": \"W\", \"weight\": 0.6},\n",
    "    {\"move\": \"W\", \"weight\": 0.3},\n",
    "    {\"move\": \"D\", \"weight\": 1.0},\n",
    "    {\"move\": \"D\", \"weight\": 0.6},\n",
    "    {\"move\": \"D\", \"weight\": 0.4},\n",
    "    {\"move\": \"A\", \"weight\": 1.0},\n",
    "    {\"move\": \"A\", \"weight\": 0.3},\n",
    "    {\"move\": \"S\", \"weight\": 0.5},\n",
    "    {\"move\": \"S\", \"weight\": 0.1},\n",
    "    {\"move\": \"STOP\"}\n",
    "]\n",
    "\n",
    "# Action commands with weights (15+ variations)\n",
    "action_command = [\n",
    "    {\"turret\": \"Q\", \"weight\": 1.0},\n",
    "    {\"turret\": \"Q\", \"weight\": 0.8},\n",
    "    {\"turret\": \"Q\", \"weight\": 0.6},\n",
    "    {\"turret\": \"Q\", \"weight\": 0.4},\n",
    "    {\"turret\": \"E\", \"weight\": 1.0},\n",
    "    {\"turret\": \"E\", \"weight\": 1.0},\n",
    "    {\"turret\": \"E\", \"weight\": 1.0},\n",
    "    {\"turret\": \"E\", \"weight\": 1.0},\n",
    "    {\"turret\": \"F\", \"weight\": 0.5},\n",
    "    {\"turret\": \"F\", \"weight\": 0.3},\n",
    "    {\"turret\": \"R\", \"weight\": 1.0},\n",
    "    {\"turret\": \"R\", \"weight\": 0.7},\n",
    "    {\"turret\": \"R\", \"weight\": 0.4},\n",
    "    {\"turret\": \"R\", \"weight\": 0.2},\n",
    "    {\"turret\": \"FIRE\"}\n",
    "]\n",
    "\n",
    "@app.route('/detect', methods=['POST'])\n",
    "def detect():\n",
    "    image = request.files.get('image')\n",
    "    if not image:\n",
    "        return jsonify({\"error\": \"No image received\"}), 400\n",
    "\n",
    "    image_path = 'temp_image.jpg'\n",
    "    image.save(image_path)\n",
    "\n",
    "    results = model(image_path)\n",
    "    detections = results[0].boxes.data.cpu().numpy()\n",
    "\n",
    "    target_classes = {0: \"person\", 2: \"car\", 7: \"truck\", 15: \"rock\"}\n",
    "    filtered_results = []\n",
    "    for box in detections:\n",
    "        class_id = int(box[5])\n",
    "        if class_id in target_classes:\n",
    "            filtered_results.append({\n",
    "                'className': target_classes[class_id],\n",
    "                'bbox': [float(coord) for coord in box[:4]],\n",
    "                'confidence': float(box[4])\n",
    "            })\n",
    "\n",
    "    return jsonify(filtered_results)\n",
    "\n",
    "@app.route('/info', methods=['POST'])\n",
    "def info():\n",
    "    data = request.get_json(force=True)\n",
    "    if not data:\n",
    "        return jsonify({\"error\": \"No JSON received\"}), 400\n",
    "\n",
    "    print(\"📨 /info data received:\", data)\n",
    "\n",
    "    # Auto-pause after 15 seconds\n",
    "    #if data.get(\"time\", 0) > 15:\n",
    "    #    return jsonify({\"status\": \"success\", \"control\": \"pause\"})\n",
    "    # Auto-reset after 15 seconds\n",
    "    #if data.get(\"time\", 0) > 15:\n",
    "    #    return jsonify({\"stsaatus\": \"success\", \"control\": \"reset\"})\n",
    "    return jsonify({\"status\": \"success\", \"control\": \"\"})\n",
    "\n",
    "@app.route('/update_position', methods=['POST'])\n",
    "def update_position():\n",
    "    data = request.get_json()\n",
    "    if not data or \"position\" not in data:\n",
    "        return jsonify({\"status\": \"ERROR\", \"message\": \"Missing position data\"}), 400\n",
    "\n",
    "    try:\n",
    "        x, y, z = map(float, data[\"position\"].split(\",\"))\n",
    "        current_position = (int(x), int(z))\n",
    "        print(f\"📍 Position updated: {current_position}\")\n",
    "        return jsonify({\"status\": \"OK\", \"current_position\": current_position})\n",
    "    except Exception as e:\n",
    "        return jsonify({\"status\": \"ERROR\", \"message\": str(e)}), 400\n",
    "\n",
    "@app.route('/get_move', methods=['GET'])\n",
    "def get_move():\n",
    "    global move_command\n",
    "    if move_command:\n",
    "        command = move_command.pop(0)\n",
    "        print(f\"🚗 Move Command: {command}\")\n",
    "        return jsonify(command)\n",
    "    else:\n",
    "        return jsonify({\"move\": \"STOP\", \"weight\": 1.0})\n",
    "\n",
    "@app.route('/get_action', methods=['GET'])\n",
    "def get_action():\n",
    "    global action_command\n",
    "    if action_command:\n",
    "        command = action_command.pop(0)\n",
    "        print(f\"🔫 Action Command: {command}\")\n",
    "        return jsonify(command)\n",
    "    else:\n",
    "        return jsonify({\"turret\": \"\", \"weight\": 0.0})\n",
    "\n",
    "@app.route('/update_bullet', methods=['POST'])\n",
    "def update_bullet():\n",
    "    data = request.get_json()\n",
    "    if not data:\n",
    "        return jsonify({\"status\": \"ERROR\", \"message\": \"Invalid request data\"}), 400\n",
    "\n",
    "    print(f\"💥 Bullet Impact at X={data.get('x')}, Y={data.get('y')}, Z={data.get('z')}, Target={data.get('hit')}\")\n",
    "    return jsonify({\"status\": \"OK\", \"message\": \"Bullet impact data received\"})\n",
    "\n",
    "@app.route('/set_destination', methods=['POST'])\n",
    "def set_destination():\n",
    "    data = request.get_json()\n",
    "    if not data or \"destination\" not in data:\n",
    "        return jsonify({\"status\": \"ERROR\", \"message\": \"Missing destination data\"}), 400\n",
    "\n",
    "    try:\n",
    "        x, y, z = map(float, data[\"destination\"].split(\",\"))\n",
    "        print(f\"🎯 Destination set to: x={x}, y={y}, z={z}\")\n",
    "        return jsonify({\"status\": \"OK\", \"destination\": {\"x\": x, \"y\": y, \"z\": z}})\n",
    "    except Exception as e:\n",
    "        return jsonify({\"status\": \"ERROR\", \"message\": f\"Invalid format: {str(e)}\"}), 400\n",
    "\n",
    "@app.route('/update_obstacle', methods=['POST'])\n",
    "def update_obstacle():\n",
    "    data = request.get_json()\n",
    "    if not data:\n",
    "        return jsonify({'status': 'error', 'message': 'No data received'}), 400\n",
    "\n",
    "    print(\"🪨 Obstacle Data:\", data)\n",
    "    return jsonify({'status': 'success', 'message': 'Obstacle data received'})\n",
    "\n",
    "#Endpoint called when the episode starts\n",
    "@app.route('/init', methods=['GET'])\n",
    "def init():\n",
    "    config = {\n",
    "        \"startMode\": \"start\",  # Options: \"start\" or \"pause\"\n",
    "        \"blStartX\": 60,  #Blue Start Position\n",
    "        \"blStartY\": 10,\n",
    "        \"blStartZ\": 27.23,\n",
    "        \"rdStartX\": 59, #Red Start Position\n",
    "        \"rdStartY\": 10,\n",
    "        \"rdStartZ\": 280\n",
    "    }\n",
    "    print(\"🛠️ Initialization config sent via /init:\", config)\n",
    "    return jsonify(config)\n",
    "\n",
    "@app.route('/start', methods=['GET'])\n",
    "def start():\n",
    "    print(\"🚀 /start command received\")\n",
    "    return jsonify({\"control\": \"\"})\n",
    "\n",
    "if __name__ == '__main__':\n",
    "    app.run(host='0.0.0.0', port=5000)\n"
   ]
  },
  {
   "cell_type": "code",
   "execution_count": null,
   "id": "b4ed8445-9749-423f-b883-a6a8a7c9136c",
   "metadata": {},
   "outputs": [],
   "source": []
  },
  {
   "cell_type": "code",
   "execution_count": null,
   "id": "b4d9ad4e-1a68-4907-9f5a-13d1454559e0",
   "metadata": {},
   "outputs": [],
   "source": []
  }
 ],
 "metadata": {
  "kernelspec": {
   "display_name": "Python [conda env:base] *",
   "language": "python",
   "name": "conda-base-py"
  },
  "language_info": {
   "codemirror_mode": {
    "name": "ipython",
    "version": 3
   },
   "file_extension": ".py",
   "mimetype": "text/x-python",
   "name": "python",
   "nbconvert_exporter": "python",
   "pygments_lexer": "ipython3",
   "version": "3.12.7"
  }
 },
 "nbformat": 4,
 "nbformat_minor": 5
}
