{
 "cells": [
  {
   "cell_type": "markdown",
   "id": "01f862a1",
   "metadata": {},
   "source": [
    "### 뉴럴 스타일 트랜스퍼\n",
    "* 스타일 참조 이미지, 베이스 이미지, 사전 훈련 모델 VGG19의 층 활성화를 동시에 계산하는 네트워크 설정\n",
    "* 세 이미지에서 계산한 층 활성화를 사용하여 앞서 설명한 손실 함수를 정의\n",
    "* 손실을 최소화하여 스타일 트랜스퍼 구현\n",
    "* 손실 함수를 최소화할 경사 하강 과정 설정"
   ]
  },
  {
   "cell_type": "code",
   "execution_count": 1,
   "id": "ebde2f4d",
   "metadata": {},
   "outputs": [
    {
     "name": "stdout",
     "output_type": "stream",
     "text": [
      "베이스 이미지 크기: 1920 x 1080\n",
      "레퍼런스 이미지 크기: 4608 x 3072\n"
     ]
    }
   ],
   "source": [
    "from PIL import Image\n",
    "\n",
    "# 이미지 파일 경로 설정\n",
    "base_image_path = \"./data/test.jpg\" \n",
    "style_reference_image_path = \"./data/rain1.jpg\" \n",
    "\n",
    "# 이미지 열기\n",
    "ref_image = Image.open(style_reference_image_path)\n",
    "base_image = Image.open(base_image_path)\n",
    "\n",
    "# 이미지 크기 확인\n",
    "width1, height1 = base_image.size\n",
    "width2, height2 = ref_image.size\n",
    "print(f\"베이스 이미지 크기: {width1} x {height1}\")\n",
    "print(f\"레퍼런스 이미지 크기: {width2} x {height2}\")"
   ]
  },
  {
   "cell_type": "code",
   "execution_count": 2,
   "id": "9a56cd66",
   "metadata": {},
   "outputs": [
    {
     "name": "stdout",
     "output_type": "stream",
     "text": [
      "/home/hara/workspace/python-docker/Aug_dev\n"
     ]
    }
   ],
   "source": [
    "import os\n",
    "print(os.getcwd())"
   ]
  },
  {
   "cell_type": "code",
   "execution_count": 3,
   "id": "d7863887",
   "metadata": {},
   "outputs": [
    {
     "name": "stderr",
     "output_type": "stream",
     "text": [
      "2025-04-10 15:27:21.583875: I tensorflow/core/util/port.cc:153] oneDNN custom operations are on. You may see slightly different numerical results due to floating-point round-off errors from different computation orders. To turn them off, set the environment variable `TF_ENABLE_ONEDNN_OPTS=0`.\n",
      "2025-04-10 15:27:21.593637: I external/local_xla/xla/tsl/cuda/cudart_stub.cc:32] Could not find cuda drivers on your machine, GPU will not be used.\n",
      "2025-04-10 15:27:21.660899: I external/local_xla/xla/tsl/cuda/cudart_stub.cc:32] Could not find cuda drivers on your machine, GPU will not be used.\n",
      "2025-04-10 15:27:21.715900: E external/local_xla/xla/stream_executor/cuda/cuda_fft.cc:467] Unable to register cuFFT factory: Attempting to register factory for plugin cuFFT when one has already been registered\n",
      "WARNING: All log messages before absl::InitializeLog() is called are written to STDERR\n",
      "E0000 00:00:1744266441.769594    2958 cuda_dnn.cc:8579] Unable to register cuDNN factory: Attempting to register factory for plugin cuDNN when one has already been registered\n",
      "E0000 00:00:1744266441.783353    2958 cuda_blas.cc:1407] Unable to register cuBLAS factory: Attempting to register factory for plugin cuBLAS when one has already been registered\n",
      "W0000 00:00:1744266441.887593    2958 computation_placer.cc:177] computation placer already registered. Please check linkage and avoid linking the same target more than once.\n",
      "W0000 00:00:1744266441.887632    2958 computation_placer.cc:177] computation placer already registered. Please check linkage and avoid linking the same target more than once.\n",
      "W0000 00:00:1744266441.887633    2958 computation_placer.cc:177] computation placer already registered. Please check linkage and avoid linking the same target more than once.\n",
      "W0000 00:00:1744266441.887634    2958 computation_placer.cc:177] computation placer already registered. Please check linkage and avoid linking the same target more than once.\n",
      "2025-04-10 15:27:21.900690: I tensorflow/core/platform/cpu_feature_guard.cc:210] This TensorFlow binary is optimized to use available CPU instructions in performance-critical operations.\n",
      "To enable the following instructions: AVX2 AVX_VNNI FMA, in other operations, rebuild TensorFlow with the appropriate compiler flags.\n"
     ]
    },
    {
     "name": "stdout",
     "output_type": "stream",
     "text": [
      "리사이즈된 레퍼런스 이미지 크기: 512 x 512\n"
     ]
    }
   ],
   "source": [
    "# 스타일 이미지와 베이스 이미지는 크기가 비슷하다\n",
    "# 같은 높이가 되도록 크기 통일\n",
    "from tensorflow import keras\n",
    "\n",
    "# 레퍼런스 이미지 크기를 베이스 이미지 크기에 맞게 조정\n",
    "resized_ref_image = ref_image.resize((512, 512))\n",
    "\n",
    "# 리사이즈된 레퍼런스 이미지 확인\n",
    "resized_ref_width, resized_ref_height = resized_ref_image.size\n",
    "print(f\"리사이즈된 레퍼런스 이미지 크기: {resized_ref_width} x {resized_ref_height}\")\n",
    "\n",
    "# 리사이즈된 이미지 저장 (원하는 경우)\n",
    "resized_ref_image.save(\"./rain_ref.jpg\")"
   ]
  },
  {
   "cell_type": "code",
   "execution_count": 4,
   "id": "d729517b",
   "metadata": {},
   "outputs": [],
   "source": [
    "# 이미지 로드, 전처리 사후 처리를 위한 유틸리티 함수\n",
    "import numpy as np\n",
    "\n",
    "# 이미지를 로드하고 크기를 바꾸어 적절한 배열로 변환하는 유틸리티함수\n",
    "def preprocess_image(image_path):\n",
    "    img = keras.utils.load_img(\n",
    "        image_path, target_size=(512, 512))\n",
    "    img = keras.utils.img_to_array(img)\n",
    "    img = np.expand_dims(img, axis=0)\n",
    "    img = keras.applications.vgg19.preprocess_input(img)\n",
    "    return img\n",
    "\n",
    "# 넘파이를 배열 이미지로 변환\n",
    "def deprocess_image(img):\n",
    "    img = img.reshape((512, 512, 3))\n",
    "    img[:, :, 0] += 103.939\n",
    "    img[:, :, 1] += 116.779\n",
    "    img[:, :, 2] += 123.68\n",
    "    img = img[:, :, ::-1]\n",
    "    img = np.clip(img, 0, 255).astype(\"uint8\")\n",
    "    return img"
   ]
  },
  {
   "cell_type": "code",
   "execution_count": 5,
   "id": "bfae3f90",
   "metadata": {},
   "outputs": [
    {
     "name": "stderr",
     "output_type": "stream",
     "text": [
      "E0000 00:00:1744266447.532299    2958 cuda_executor.cc:1228] INTERNAL: CUDA Runtime error: Failed call to cudaGetRuntimeVersion: Error loading CUDA libraries. GPU will not be used.: Error loading CUDA libraries. GPU will not be used.\n",
      "W0000 00:00:1744266447.544212    2958 gpu_device.cc:2341] Cannot dlopen some GPU libraries. Please make sure the missing libraries mentioned above are installed properly if you would like to use GPU. Follow the guide at https://www.tensorflow.org/install/gpu for how to download and setup the required libraries for your platform.\n",
      "Skipping registering GPU devices...\n"
     ]
    }
   ],
   "source": [
    "# 사전 훈련된 VGG19 모델로 특성 추출\n",
    "model = keras.applications.vgg19.VGG19(weights=\"imagenet\", include_top=False)\n",
    "\n",
    "outputs_dict = dict([(layer.name, layer.output) for layer in model.layers])\n",
    "# 모든 타깃 층의 활성화 값을 (하나의 딕셔너리로) 반환환\n",
    "feature_extractor = keras.Model(inputs=model.inputs, outputs=outputs_dict)"
   ]
  },
  {
   "cell_type": "code",
   "execution_count": 9,
   "id": "a151f0f7",
   "metadata": {},
   "outputs": [],
   "source": [
    "#콘텐츠 손실 \n",
    "def content_loss(base_img, combination_img):\n",
    "    return tf.reduce_sum(tf.square(combination_img - base_img))"
   ]
  },
  {
   "cell_type": "code",
   "execution_count": 11,
   "id": "c1666a6b",
   "metadata": {},
   "outputs": [],
   "source": [
    "# 스타일 손실\n",
    "# 입력 행렬의 그람 행렬을 계산 : 원복 특성 행렬의 상관관계 기록\n",
    "def gram_matrix(x):\n",
    "    x = tf.transpose(x, (2, 0, 1))\n",
    "    features = tf.reshape(x, (tf.shape(x)[0], -1))\n",
    "    gram = tf.matmul(features, tf.transpose(features))\n",
    "    return gram\n",
    "\n",
    "def style_loss(style_img, combination_img):\n",
    "    S = gram_matrix(style_img)\n",
    "    C = gram_matrix(combination_img)\n",
    "    channels = 3\n",
    "    size = 512 * 512\n",
    "    return tf.reduce_sum(tf.square(S - C)) / (4.0 * (channels ** 2) * (size ** 2))"
   ]
  },
  {
   "cell_type": "code",
   "execution_count": 12,
   "id": "5accb74d",
   "metadata": {},
   "outputs": [],
   "source": [
    "# 총 변위 손실 : 생성된 이미지의 픽셀을 사용하여 계산\n",
    "# 픽셀의 격자 무늬가 과도하게 나타나는 것을 막는다.\n",
    "def total_variation_loss(x):\n",
    "    a = tf.square(\n",
    "        x[:, : 512 - 1, : 512 - 1, :] - x[:, 1:, : 512 - 1, :]\n",
    "    )\n",
    "    b = tf.square(\n",
    "        x[:, : 512 - 1, : 512 - 1, :] - x[:, : 512 - 1, 1:, :]\n",
    "    )\n",
    "    return tf.reduce_sum(tf.pow(a + b, 1.25))"
   ]
  },
  {
   "cell_type": "code",
   "execution_count": 13,
   "id": "764afaaf",
   "metadata": {},
   "outputs": [],
   "source": [
    "# 최소화할 최종 손실 정의\n",
    "style_layer_names = [\n",
    "    \"block1_conv1\",\n",
    "    \"block2_conv1\",\n",
    "    \"block3_conv1\",\n",
    "    \"block4_conv1\",\n",
    "    \"block5_conv1\",\n",
    "]\n",
    "content_layer_name = \"block5_conv2\"\n",
    "total_variation_weight = 1e-6\n",
    "style_weight = 1e-6\n",
    "content_weight = 2.5e-8 # 조정하여 얼마만큼 섞을 지 정하기기\n",
    "\n",
    "def compute_loss(combination_image, base_image, style_reference_image):\n",
    "    input_tensor = tf.concat(\n",
    "        [base_image, style_reference_image, combination_image], axis=0\n",
    "    )\n",
    "    features = feature_extractor(input_tensor)\n",
    "    loss = tf.zeros(shape=()) # 손실 초기화\n",
    "    layer_features = features[content_layer_name] # 콘텐츠 손실 더하기\n",
    "    base_image_features = layer_features[0, :, :, :]\n",
    "    combination_features = layer_features[2, :, :, :]\n",
    "    loss = loss + content_weight * content_loss(\n",
    "        base_image_features, combination_features\n",
    "    )\n",
    "    for layer_name in style_layer_names: # 스타일 손실 더하기\n",
    "        layer_features = features[layer_name]\n",
    "        style_reference_features = layer_features[1, :, :, :]\n",
    "        combination_features = layer_features[2, :, :, :]\n",
    "        style_loss_value = style_loss(\n",
    "          style_reference_features, combination_features)\n",
    "        loss += (style_weight / len(style_layer_names)) * style_loss_value\n",
    "\n",
    "    loss += total_variation_weight * total_variation_loss(combination_image) # 총 변위 손실 더하기기\n",
    "    return loss"
   ]
  },
  {
   "cell_type": "code",
   "execution_count": null,
   "id": "10fd0ed4",
   "metadata": {},
   "outputs": [
    {
     "name": "stderr",
     "output_type": "stream",
     "text": [
      "/home/hara/.local/lib/python3.10/site-packages/keras/src/models/functional.py:238: UserWarning: The structure of `inputs` doesn't match the expected structure.\n",
      "Expected: ['keras_tensor']\n",
      "Received: inputs=Tensor(shape=(3, 512, 512, 3))\n",
      "  warnings.warn(msg)\n"
     ]
    },
    {
     "name": "stdout",
     "output_type": "stream",
     "text": [
      "100번째 반복: loss=1700.38\n",
      "200번째 반복: loss=1386.81\n",
      "300번째 반복: loss=1263.56\n",
      "400번째 반복: loss=1195.80\n",
      "500번째 반복: loss=1152.09\n",
      "600번째 반복: loss=1121.12\n",
      "700번째 반복: loss=1097.77\n",
      "800번째 반복: loss=1079.35\n",
      "900번째 반복: loss=1064.36\n",
      "1000번째 반복: loss=1051.88\n",
      "1100번째 반복: loss=1041.26\n"
     ]
    }
   ],
   "source": [
    "# 경사하강법 단계 설정 - 학습률 스케줄 옵티마이저 기능 활용\n",
    "\n",
    "import tensorflow as tf\n",
    "\n",
    "@tf.function\n",
    "def compute_loss_and_grads(combination_image, base_image, style_reference_image):\n",
    "    with tf.GradientTape() as tape:\n",
    "        loss = compute_loss(combination_image, base_image, style_reference_image)\n",
    "    grads = tape.gradient(loss, combination_image)\n",
    "    return loss, grads\n",
    "\n",
    "optimizer = keras.optimizers.SGD(\n",
    "    keras.optimizers.schedules.ExponentialDecay(\n",
    "        initial_learning_rate=100.0, decay_steps=100, decay_rate=0.96\n",
    "    )\n",
    ")\n",
    "\n",
    "base_image = preprocess_image(base_image_path)\n",
    "style_reference_image = preprocess_image(style_reference_image_path)\n",
    "combination_image = tf.Variable(preprocess_image(base_image_path))\n",
    "\n",
    "iterations = 4000\n",
    "for i in range(1, iterations + 1):\n",
    "    loss, grads = compute_loss_and_grads(\n",
    "        combination_image, base_image, style_reference_image\n",
    "    )\n",
    "    optimizer.apply_gradients([(grads, combination_image)])\n",
    "    if i % 100 == 0:\n",
    "        print(f\"{i}번째 반복: loss={loss:.2f}\")\n",
    "        img = deprocess_image(combination_image.numpy())\n",
    "        fname = f\"rainyday_{i}.png\"\n",
    "        keras.utils.save_img(fname, img)"
   ]
  },
  {
   "cell_type": "code",
   "execution_count": null,
   "id": "a407cbe4",
   "metadata": {},
   "outputs": [],
   "source": []
  }
 ],
 "metadata": {
  "kernelspec": {
   "display_name": "Python 3",
   "language": "python",
   "name": "python3"
  },
  "language_info": {
   "codemirror_mode": {
    "name": "ipython",
    "version": 3
   },
   "file_extension": ".py",
   "mimetype": "text/x-python",
   "name": "python",
   "nbconvert_exporter": "python",
   "pygments_lexer": "ipython3",
   "version": "3.10.12"
  }
 },
 "nbformat": 4,
 "nbformat_minor": 5
}
