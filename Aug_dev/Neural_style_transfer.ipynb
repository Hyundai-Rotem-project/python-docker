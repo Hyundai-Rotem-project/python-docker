{
 "cells": [
  {
   "cell_type": "markdown",
   "id": "01f862a1",
   "metadata": {},
   "source": [
    "### 뉴럴 스타일 트랜스퍼\n",
    "* 스타일 참조 이미지, 베이스 이미지, 사전 훈련 모델 VGG19의 층 활성화를 동시에 계산하는 네트워크 설정\n",
    "* 세 이미지에서 계산한 층 활성화를 사용하여 앞서 설명한 손실 함수를 정의\n",
    "* 손실을 최소화하여 스타일 트랜스퍼 구현\n",
    "* 손실 함수를 최소화할 경사 하강 과정 설정"
   ]
  },
  {
   "cell_type": "code",
   "execution_count": 2,
   "id": "ebde2f4d",
   "metadata": {},
   "outputs": [
    {
     "name": "stdout",
     "output_type": "stream",
     "text": [
      "베이스 이미지 크기: 1920 x 1080\n",
      "레퍼런스 이미지 크기: 850 x 566\n"
     ]
    }
   ],
   "source": [
    "from PIL import Image\n",
    "\n",
    "# 이미지 파일 경로 설정\n",
    "base_image_path = \"test.jpg\" \n",
    "style_reference_image_path = \"rain.jpg\" \n",
    "\n",
    "# 이미지 열기\n",
    "ref_image = Image.open(style_reference_image_path)\n",
    "base_image = Image.open(base_image_path)\n",
    "\n",
    "# 이미지 크기 확인\n",
    "width1, height1 = base_image.size\n",
    "width2, height2 = ref_image.size\n",
    "print(f\"베이스 이미지 크기: {width1} x {height1}\")\n",
    "print(f\"레퍼런스 이미지 크기: {width2} x {height2}\")"
   ]
  },
  {
   "cell_type": "code",
   "execution_count": 3,
   "id": "9a56cd66",
   "metadata": {},
   "outputs": [
    {
     "name": "stdout",
     "output_type": "stream",
     "text": [
      "c:\\pycode\\deep-learning-with-python-2nd-main\\deep-learning-with-python-2nd-main\\3rd_project\n"
     ]
    }
   ],
   "source": [
    "import os\n",
    "print(os.getcwd())"
   ]
  },
  {
   "cell_type": "code",
   "execution_count": 5,
   "id": "d7863887",
   "metadata": {},
   "outputs": [
    {
     "name": "stdout",
     "output_type": "stream",
     "text": [
      "리사이즈된 레퍼런스 이미지 크기: 512 x 512\n"
     ]
    }
   ],
   "source": [
    "# 스타일 이미지와 베이스 이미지는 크기가 비슷하다\n",
    "# 같은 높이가 되도록 크기 통일\n",
    "from tensorflow import keras\n",
    "\n",
    "# 레퍼런스 이미지 크기를 베이스 이미지 크기에 맞게 조정\n",
    "resized_ref_image = ref_image.resize((512, 512))\n",
    "\n",
    "# 리사이즈된 레퍼런스 이미지 확인\n",
    "resized_ref_width, resized_ref_height = resized_ref_image.size\n",
    "print(f\"리사이즈된 레퍼런스 이미지 크기: {resized_ref_width} x {resized_ref_height}\")\n",
    "\n",
    "# 리사이즈된 이미지 저장 (원하는 경우)\n",
    "resized_ref_image.save(\"./rain_ref.jpg\")"
   ]
  },
  {
   "cell_type": "code",
   "execution_count": 6,
   "id": "d729517b",
   "metadata": {},
   "outputs": [],
   "source": [
    "# 이미지 로드, 전처리 사후 처리를 위한 유틸리티 함수\n",
    "import numpy as np\n",
    "\n",
    "# 이미지를 로드하고 크기를 바꾸어 적절한 배열로 변환하는 유틸리티함수\n",
    "def preprocess_image(image_path):\n",
    "    img = keras.utils.load_img(\n",
    "        image_path, target_size=(512, 512))\n",
    "    img = keras.utils.img_to_array(img)\n",
    "    img = np.expand_dims(img, axis=0)\n",
    "    img = keras.applications.vgg19.preprocess_input(img)\n",
    "    return img\n",
    "\n",
    "# 넘파이를 배열 이미지로 변환\n",
    "def deprocess_image(img):\n",
    "    img = img.reshape((512, 512, 3))\n",
    "    img[:, :, 0] += 103.939\n",
    "    img[:, :, 1] += 116.779\n",
    "    img[:, :, 2] += 123.68\n",
    "    img = img[:, :, ::-1]\n",
    "    img = np.clip(img, 0, 255).astype(\"uint8\")\n",
    "    return img"
   ]
  },
  {
   "cell_type": "code",
   "execution_count": 7,
   "id": "bfae3f90",
   "metadata": {},
   "outputs": [],
   "source": [
    "# 사전 훈련된 VGG19 모델로 특성 추출\n",
    "model = keras.applications.vgg19.VGG19(weights=\"imagenet\", include_top=False)\n",
    "\n",
    "outputs_dict = dict([(layer.name, layer.output) for layer in model.layers])\n",
    "# 모든 타깃 층의 활성화 값을 (하나의 딕셔너리로) 반환환\n",
    "feature_extractor = keras.Model(inputs=model.inputs, outputs=outputs_dict)"
   ]
  },
  {
   "cell_type": "code",
   "execution_count": 8,
   "id": "a151f0f7",
   "metadata": {},
   "outputs": [],
   "source": [
    "#콘텐츠 손실 \n",
    "def content_loss(base_img, combination_img):\n",
    "    return tf.reduce_sum(tf.square(combination_img - base_img))"
   ]
  },
  {
   "cell_type": "code",
   "execution_count": 12,
   "id": "c1666a6b",
   "metadata": {},
   "outputs": [],
   "source": [
    "# 스타일 손실\n",
    "# 입력 행렬의 그람 행렬을 계산 : 원복 특성 행렬의 상관관계 기록\n",
    "def gram_matrix(x):\n",
    "    x = tf.transpose(x, (2, 0, 1))\n",
    "    features = tf.reshape(x, (tf.shape(x)[0], -1))\n",
    "    gram = tf.matmul(features, tf.transpose(features))\n",
    "    return gram\n",
    "\n",
    "def style_loss(style_img, combination_img):\n",
    "    S = gram_matrix(style_img)\n",
    "    C = gram_matrix(combination_img)\n",
    "    channels = 3\n",
    "    size = 512 * 512\n",
    "    return tf.reduce_sum(tf.square(S - C)) / (4.0 * (channels ** 2) * (size ** 2))"
   ]
  },
  {
   "cell_type": "code",
   "execution_count": 13,
   "id": "5accb74d",
   "metadata": {},
   "outputs": [],
   "source": [
    "# 총 변위 손실 : 생성된 이미지의 픽셀을 사용하여 계산\n",
    "# 픽셀의 격자 무늬가 과도하게 나타나는 것을 막는다.\n",
    "def total_variation_loss(x):\n",
    "    a = tf.square(\n",
    "        x[:, : 512 - 1, : 512 - 1, :] - x[:, 1:, : 512 - 1, :]\n",
    "    )\n",
    "    b = tf.square(\n",
    "        x[:, : 512 - 1, : 512 - 1, :] - x[:, : 512 - 1, 1:, :]\n",
    "    )\n",
    "    return tf.reduce_sum(tf.pow(a + b, 1.25))"
   ]
  },
  {
   "cell_type": "code",
   "execution_count": 14,
   "id": "764afaaf",
   "metadata": {},
   "outputs": [],
   "source": [
    "# 최소화할 최종 손실 정의\n",
    "style_layer_names = [\n",
    "    \"block1_conv1\",\n",
    "    \"block2_conv1\",\n",
    "    \"block3_conv1\",\n",
    "    \"block4_conv1\",\n",
    "    \"block5_conv1\",\n",
    "]\n",
    "content_layer_name = \"block5_conv2\"\n",
    "total_variation_weight = 1e-6\n",
    "style_weight = 1e-6\n",
    "content_weight = 2.5e-8 # 조정하여 얼마만큼 섞을 지 정하기기\n",
    "\n",
    "def compute_loss(combination_image, base_image, style_reference_image):\n",
    "    input_tensor = tf.concat(\n",
    "        [base_image, style_reference_image, combination_image], axis=0\n",
    "    )\n",
    "    features = feature_extractor(input_tensor)\n",
    "    loss = tf.zeros(shape=()) # 손실 초기화\n",
    "    layer_features = features[content_layer_name] # 콘텐츠 손실 더하기\n",
    "    base_image_features = layer_features[0, :, :, :]\n",
    "    combination_features = layer_features[2, :, :, :]\n",
    "    loss = loss + content_weight * content_loss(\n",
    "        base_image_features, combination_features\n",
    "    )\n",
    "    for layer_name in style_layer_names: # 스타일 손실 더하기\n",
    "        layer_features = features[layer_name]\n",
    "        style_reference_features = layer_features[1, :, :, :]\n",
    "        combination_features = layer_features[2, :, :, :]\n",
    "        style_loss_value = style_loss(\n",
    "          style_reference_features, combination_features)\n",
    "        loss += (style_weight / len(style_layer_names)) * style_loss_value\n",
    "\n",
    "    loss += total_variation_weight * total_variation_loss(combination_image) # 총 변위 손실 더하기기\n",
    "    return loss"
   ]
  },
  {
   "cell_type": "code",
   "execution_count": 15,
   "id": "10fd0ed4",
   "metadata": {},
   "outputs": [
    {
     "name": "stderr",
     "output_type": "stream",
     "text": [
      "c:\\Users\\acorn\\anaconda3\\Lib\\site-packages\\keras\\src\\models\\functional.py:237: UserWarning: The structure of `inputs` doesn't match the expected structure.\n",
      "Expected: ['keras_tensor']\n",
      "Received: inputs=Tensor(shape=(3, 512, 512, 3))\n",
      "  warnings.warn(msg)\n"
     ]
    },
    {
     "name": "stdout",
     "output_type": "stream",
     "text": [
      "100번째 반복: loss=7177.38\n",
      "200번째 반복: loss=5394.07\n",
      "300번째 반복: loss=4680.64\n"
     ]
    },
    {
     "ename": "AbortedError",
     "evalue": "Graph execution error:\n\nDetected at node functional_1/block3_conv4_1/Relu defined at (most recent call last):\n  File \"<frozen runpy>\", line 198, in _run_module_as_main\n\n  File \"<frozen runpy>\", line 88, in _run_code\n\n  File \"c:\\Users\\acorn\\anaconda3\\Lib\\site-packages\\ipykernel_launcher.py\", line 17, in <module>\n\n  File \"c:\\Users\\acorn\\anaconda3\\Lib\\site-packages\\traitlets\\config\\application.py\", line 1075, in launch_instance\n\n  File \"c:\\Users\\acorn\\anaconda3\\Lib\\site-packages\\ipykernel\\kernelapp.py\", line 701, in start\n\n  File \"c:\\Users\\acorn\\anaconda3\\Lib\\site-packages\\tornado\\platform\\asyncio.py\", line 205, in start\n\n  File \"c:\\Users\\acorn\\anaconda3\\Lib\\asyncio\\windows_events.py\", line 322, in run_forever\n\n  File \"c:\\Users\\acorn\\anaconda3\\Lib\\asyncio\\base_events.py\", line 641, in run_forever\n\n  File \"c:\\Users\\acorn\\anaconda3\\Lib\\asyncio\\base_events.py\", line 1986, in _run_once\n\n  File \"c:\\Users\\acorn\\anaconda3\\Lib\\asyncio\\events.py\", line 88, in _run\n\n  File \"c:\\Users\\acorn\\anaconda3\\Lib\\site-packages\\ipykernel\\kernelbase.py\", line 534, in dispatch_queue\n\n  File \"c:\\Users\\acorn\\anaconda3\\Lib\\site-packages\\ipykernel\\kernelbase.py\", line 523, in process_one\n\n  File \"c:\\Users\\acorn\\anaconda3\\Lib\\site-packages\\ipykernel\\kernelbase.py\", line 429, in dispatch_shell\n\n  File \"c:\\Users\\acorn\\anaconda3\\Lib\\site-packages\\ipykernel\\kernelbase.py\", line 767, in execute_request\n\n  File \"c:\\Users\\acorn\\anaconda3\\Lib\\site-packages\\ipykernel\\ipkernel.py\", line 429, in do_execute\n\n  File \"c:\\Users\\acorn\\anaconda3\\Lib\\site-packages\\ipykernel\\zmqshell.py\", line 549, in run_cell\n\n  File \"c:\\Users\\acorn\\anaconda3\\Lib\\site-packages\\IPython\\core\\interactiveshell.py\", line 3075, in run_cell\n\n  File \"c:\\Users\\acorn\\anaconda3\\Lib\\site-packages\\IPython\\core\\interactiveshell.py\", line 3130, in _run_cell\n\n  File \"c:\\Users\\acorn\\anaconda3\\Lib\\site-packages\\IPython\\core\\async_helpers.py\", line 128, in _pseudo_sync_runner\n\n  File \"c:\\Users\\acorn\\anaconda3\\Lib\\site-packages\\IPython\\core\\interactiveshell.py\", line 3334, in run_cell_async\n\n  File \"c:\\Users\\acorn\\anaconda3\\Lib\\site-packages\\IPython\\core\\interactiveshell.py\", line 3517, in run_ast_nodes\n\n  File \"c:\\Users\\acorn\\anaconda3\\Lib\\site-packages\\IPython\\core\\interactiveshell.py\", line 3577, in run_code\n\n  File \"C:\\Users\\acorn\\AppData\\Local\\Temp\\ipykernel_10208\\1799650021.py\", line 24, in <module>\n\n  File \"C:\\Users\\acorn\\AppData\\Local\\Temp\\ipykernel_10208\\1799650021.py\", line 8, in compute_loss_and_grads\n\n  File \"C:\\Users\\acorn\\AppData\\Local\\Temp\\ipykernel_10208\\2032456153.py\", line 18, in compute_loss\n\n  File \"c:\\Users\\acorn\\anaconda3\\Lib\\site-packages\\keras\\src\\utils\\traceback_utils.py\", line 117, in error_handler\n\n  File \"c:\\Users\\acorn\\anaconda3\\Lib\\site-packages\\keras\\src\\layers\\layer.py\", line 908, in __call__\n\n  File \"c:\\Users\\acorn\\anaconda3\\Lib\\site-packages\\keras\\src\\utils\\traceback_utils.py\", line 117, in error_handler\n\n  File \"c:\\Users\\acorn\\anaconda3\\Lib\\site-packages\\keras\\src\\ops\\operation.py\", line 46, in __call__\n\n  File \"c:\\Users\\acorn\\anaconda3\\Lib\\site-packages\\keras\\src\\utils\\traceback_utils.py\", line 156, in error_handler\n\n  File \"c:\\Users\\acorn\\anaconda3\\Lib\\site-packages\\keras\\src\\models\\functional.py\", line 182, in call\n\n  File \"c:\\Users\\acorn\\anaconda3\\Lib\\site-packages\\keras\\src\\ops\\function.py\", line 171, in _run_through_graph\n\n  File \"c:\\Users\\acorn\\anaconda3\\Lib\\site-packages\\keras\\src\\models\\functional.py\", line 637, in call\n\n  File \"c:\\Users\\acorn\\anaconda3\\Lib\\site-packages\\keras\\src\\utils\\traceback_utils.py\", line 117, in error_handler\n\n  File \"c:\\Users\\acorn\\anaconda3\\Lib\\site-packages\\keras\\src\\layers\\layer.py\", line 908, in __call__\n\n  File \"c:\\Users\\acorn\\anaconda3\\Lib\\site-packages\\keras\\src\\utils\\traceback_utils.py\", line 117, in error_handler\n\n  File \"c:\\Users\\acorn\\anaconda3\\Lib\\site-packages\\keras\\src\\ops\\operation.py\", line 46, in __call__\n\n  File \"c:\\Users\\acorn\\anaconda3\\Lib\\site-packages\\keras\\src\\utils\\traceback_utils.py\", line 156, in error_handler\n\n  File \"c:\\Users\\acorn\\anaconda3\\Lib\\site-packages\\keras\\src\\layers\\convolutional\\base_conv.py\", line 256, in call\n\n  File \"c:\\Users\\acorn\\anaconda3\\Lib\\site-packages\\keras\\src\\activations\\activations.py\", line 47, in relu\n\n  File \"c:\\Users\\acorn\\anaconda3\\Lib\\site-packages\\keras\\src\\activations\\activations.py\", line 101, in static_call\n\n  File \"c:\\Users\\acorn\\anaconda3\\Lib\\site-packages\\keras\\src\\backend\\tensorflow\\nn.py\", line 15, in relu\n\nOperation received an exception:Status: 1, message: could not create a memory object, in file tensorflow/core/kernels/mkl/mkl_conv_ops.cc:1112\n\t [[{{node functional_1/block3_conv4_1/Relu}}]] [Op:__inference_compute_loss_and_grads_1292]",
     "output_type": "error",
     "traceback": [
      "\u001b[1;31m---------------------------------------------------------------------------\u001b[0m",
      "\u001b[1;31mAbortedError\u001b[0m                              Traceback (most recent call last)",
      "Cell \u001b[1;32mIn[15], line 24\u001b[0m\n\u001b[0;32m     22\u001b[0m iterations \u001b[38;5;241m=\u001b[39m \u001b[38;5;241m4000\u001b[39m\n\u001b[0;32m     23\u001b[0m \u001b[38;5;28;01mfor\u001b[39;00m i \u001b[38;5;129;01min\u001b[39;00m \u001b[38;5;28mrange\u001b[39m(\u001b[38;5;241m1\u001b[39m, iterations \u001b[38;5;241m+\u001b[39m \u001b[38;5;241m1\u001b[39m):\n\u001b[1;32m---> 24\u001b[0m     loss, grads \u001b[38;5;241m=\u001b[39m compute_loss_and_grads(\n\u001b[0;32m     25\u001b[0m         combination_image, base_image, style_reference_image\n\u001b[0;32m     26\u001b[0m     )\n\u001b[0;32m     27\u001b[0m     optimizer\u001b[38;5;241m.\u001b[39mapply_gradients([(grads, combination_image)])\n\u001b[0;32m     28\u001b[0m     \u001b[38;5;28;01mif\u001b[39;00m i \u001b[38;5;241m%\u001b[39m \u001b[38;5;241m100\u001b[39m \u001b[38;5;241m==\u001b[39m \u001b[38;5;241m0\u001b[39m:\n",
      "File \u001b[1;32mc:\\Users\\acorn\\anaconda3\\Lib\\site-packages\\tensorflow\\python\\util\\traceback_utils.py:153\u001b[0m, in \u001b[0;36mfilter_traceback.<locals>.error_handler\u001b[1;34m(*args, **kwargs)\u001b[0m\n\u001b[0;32m    151\u001b[0m \u001b[38;5;28;01mexcept\u001b[39;00m \u001b[38;5;167;01mException\u001b[39;00m \u001b[38;5;28;01mas\u001b[39;00m e:\n\u001b[0;32m    152\u001b[0m   filtered_tb \u001b[38;5;241m=\u001b[39m _process_traceback_frames(e\u001b[38;5;241m.\u001b[39m__traceback__)\n\u001b[1;32m--> 153\u001b[0m   \u001b[38;5;28;01mraise\u001b[39;00m e\u001b[38;5;241m.\u001b[39mwith_traceback(filtered_tb) \u001b[38;5;28;01mfrom\u001b[39;00m \u001b[38;5;28;01mNone\u001b[39;00m\n\u001b[0;32m    154\u001b[0m \u001b[38;5;28;01mfinally\u001b[39;00m:\n\u001b[0;32m    155\u001b[0m   \u001b[38;5;28;01mdel\u001b[39;00m filtered_tb\n",
      "File \u001b[1;32mc:\\Users\\acorn\\anaconda3\\Lib\\site-packages\\tensorflow\\python\\eager\\execute.py:53\u001b[0m, in \u001b[0;36mquick_execute\u001b[1;34m(op_name, num_outputs, inputs, attrs, ctx, name)\u001b[0m\n\u001b[0;32m     51\u001b[0m \u001b[38;5;28;01mtry\u001b[39;00m:\n\u001b[0;32m     52\u001b[0m   ctx\u001b[38;5;241m.\u001b[39mensure_initialized()\n\u001b[1;32m---> 53\u001b[0m   tensors \u001b[38;5;241m=\u001b[39m pywrap_tfe\u001b[38;5;241m.\u001b[39mTFE_Py_Execute(ctx\u001b[38;5;241m.\u001b[39m_handle, device_name, op_name,\n\u001b[0;32m     54\u001b[0m                                       inputs, attrs, num_outputs)\n\u001b[0;32m     55\u001b[0m \u001b[38;5;28;01mexcept\u001b[39;00m core\u001b[38;5;241m.\u001b[39m_NotOkStatusException \u001b[38;5;28;01mas\u001b[39;00m e:\n\u001b[0;32m     56\u001b[0m   \u001b[38;5;28;01mif\u001b[39;00m name \u001b[38;5;129;01mis\u001b[39;00m \u001b[38;5;129;01mnot\u001b[39;00m \u001b[38;5;28;01mNone\u001b[39;00m:\n",
      "\u001b[1;31mAbortedError\u001b[0m: Graph execution error:\n\nDetected at node functional_1/block3_conv4_1/Relu defined at (most recent call last):\n  File \"<frozen runpy>\", line 198, in _run_module_as_main\n\n  File \"<frozen runpy>\", line 88, in _run_code\n\n  File \"c:\\Users\\acorn\\anaconda3\\Lib\\site-packages\\ipykernel_launcher.py\", line 17, in <module>\n\n  File \"c:\\Users\\acorn\\anaconda3\\Lib\\site-packages\\traitlets\\config\\application.py\", line 1075, in launch_instance\n\n  File \"c:\\Users\\acorn\\anaconda3\\Lib\\site-packages\\ipykernel\\kernelapp.py\", line 701, in start\n\n  File \"c:\\Users\\acorn\\anaconda3\\Lib\\site-packages\\tornado\\platform\\asyncio.py\", line 205, in start\n\n  File \"c:\\Users\\acorn\\anaconda3\\Lib\\asyncio\\windows_events.py\", line 322, in run_forever\n\n  File \"c:\\Users\\acorn\\anaconda3\\Lib\\asyncio\\base_events.py\", line 641, in run_forever\n\n  File \"c:\\Users\\acorn\\anaconda3\\Lib\\asyncio\\base_events.py\", line 1986, in _run_once\n\n  File \"c:\\Users\\acorn\\anaconda3\\Lib\\asyncio\\events.py\", line 88, in _run\n\n  File \"c:\\Users\\acorn\\anaconda3\\Lib\\site-packages\\ipykernel\\kernelbase.py\", line 534, in dispatch_queue\n\n  File \"c:\\Users\\acorn\\anaconda3\\Lib\\site-packages\\ipykernel\\kernelbase.py\", line 523, in process_one\n\n  File \"c:\\Users\\acorn\\anaconda3\\Lib\\site-packages\\ipykernel\\kernelbase.py\", line 429, in dispatch_shell\n\n  File \"c:\\Users\\acorn\\anaconda3\\Lib\\site-packages\\ipykernel\\kernelbase.py\", line 767, in execute_request\n\n  File \"c:\\Users\\acorn\\anaconda3\\Lib\\site-packages\\ipykernel\\ipkernel.py\", line 429, in do_execute\n\n  File \"c:\\Users\\acorn\\anaconda3\\Lib\\site-packages\\ipykernel\\zmqshell.py\", line 549, in run_cell\n\n  File \"c:\\Users\\acorn\\anaconda3\\Lib\\site-packages\\IPython\\core\\interactiveshell.py\", line 3075, in run_cell\n\n  File \"c:\\Users\\acorn\\anaconda3\\Lib\\site-packages\\IPython\\core\\interactiveshell.py\", line 3130, in _run_cell\n\n  File \"c:\\Users\\acorn\\anaconda3\\Lib\\site-packages\\IPython\\core\\async_helpers.py\", line 128, in _pseudo_sync_runner\n\n  File \"c:\\Users\\acorn\\anaconda3\\Lib\\site-packages\\IPython\\core\\interactiveshell.py\", line 3334, in run_cell_async\n\n  File \"c:\\Users\\acorn\\anaconda3\\Lib\\site-packages\\IPython\\core\\interactiveshell.py\", line 3517, in run_ast_nodes\n\n  File \"c:\\Users\\acorn\\anaconda3\\Lib\\site-packages\\IPython\\core\\interactiveshell.py\", line 3577, in run_code\n\n  File \"C:\\Users\\acorn\\AppData\\Local\\Temp\\ipykernel_10208\\1799650021.py\", line 24, in <module>\n\n  File \"C:\\Users\\acorn\\AppData\\Local\\Temp\\ipykernel_10208\\1799650021.py\", line 8, in compute_loss_and_grads\n\n  File \"C:\\Users\\acorn\\AppData\\Local\\Temp\\ipykernel_10208\\2032456153.py\", line 18, in compute_loss\n\n  File \"c:\\Users\\acorn\\anaconda3\\Lib\\site-packages\\keras\\src\\utils\\traceback_utils.py\", line 117, in error_handler\n\n  File \"c:\\Users\\acorn\\anaconda3\\Lib\\site-packages\\keras\\src\\layers\\layer.py\", line 908, in __call__\n\n  File \"c:\\Users\\acorn\\anaconda3\\Lib\\site-packages\\keras\\src\\utils\\traceback_utils.py\", line 117, in error_handler\n\n  File \"c:\\Users\\acorn\\anaconda3\\Lib\\site-packages\\keras\\src\\ops\\operation.py\", line 46, in __call__\n\n  File \"c:\\Users\\acorn\\anaconda3\\Lib\\site-packages\\keras\\src\\utils\\traceback_utils.py\", line 156, in error_handler\n\n  File \"c:\\Users\\acorn\\anaconda3\\Lib\\site-packages\\keras\\src\\models\\functional.py\", line 182, in call\n\n  File \"c:\\Users\\acorn\\anaconda3\\Lib\\site-packages\\keras\\src\\ops\\function.py\", line 171, in _run_through_graph\n\n  File \"c:\\Users\\acorn\\anaconda3\\Lib\\site-packages\\keras\\src\\models\\functional.py\", line 637, in call\n\n  File \"c:\\Users\\acorn\\anaconda3\\Lib\\site-packages\\keras\\src\\utils\\traceback_utils.py\", line 117, in error_handler\n\n  File \"c:\\Users\\acorn\\anaconda3\\Lib\\site-packages\\keras\\src\\layers\\layer.py\", line 908, in __call__\n\n  File \"c:\\Users\\acorn\\anaconda3\\Lib\\site-packages\\keras\\src\\utils\\traceback_utils.py\", line 117, in error_handler\n\n  File \"c:\\Users\\acorn\\anaconda3\\Lib\\site-packages\\keras\\src\\ops\\operation.py\", line 46, in __call__\n\n  File \"c:\\Users\\acorn\\anaconda3\\Lib\\site-packages\\keras\\src\\utils\\traceback_utils.py\", line 156, in error_handler\n\n  File \"c:\\Users\\acorn\\anaconda3\\Lib\\site-packages\\keras\\src\\layers\\convolutional\\base_conv.py\", line 256, in call\n\n  File \"c:\\Users\\acorn\\anaconda3\\Lib\\site-packages\\keras\\src\\activations\\activations.py\", line 47, in relu\n\n  File \"c:\\Users\\acorn\\anaconda3\\Lib\\site-packages\\keras\\src\\activations\\activations.py\", line 101, in static_call\n\n  File \"c:\\Users\\acorn\\anaconda3\\Lib\\site-packages\\keras\\src\\backend\\tensorflow\\nn.py\", line 15, in relu\n\nOperation received an exception:Status: 1, message: could not create a memory object, in file tensorflow/core/kernels/mkl/mkl_conv_ops.cc:1112\n\t [[{{node functional_1/block3_conv4_1/Relu}}]] [Op:__inference_compute_loss_and_grads_1292]"
     ]
    }
   ],
   "source": [
    "# 경사하강법 단계 설정 - 학습률 스케줄 옵티마이저 기능 활용\n",
    "\n",
    "import tensorflow as tf\n",
    "\n",
    "@tf.function\n",
    "def compute_loss_and_grads(combination_image, base_image, style_reference_image):\n",
    "    with tf.GradientTape() as tape:\n",
    "        loss = compute_loss(combination_image, base_image, style_reference_image)\n",
    "    grads = tape.gradient(loss, combination_image)\n",
    "    return loss, grads\n",
    "\n",
    "optimizer = keras.optimizers.SGD(\n",
    "    keras.optimizers.schedules.ExponentialDecay(\n",
    "        initial_learning_rate=100.0, decay_steps=100, decay_rate=0.96\n",
    "    )\n",
    ")\n",
    "\n",
    "base_image = preprocess_image(base_image_path)\n",
    "style_reference_image = preprocess_image(style_reference_image_path)\n",
    "combination_image = tf.Variable(preprocess_image(base_image_path))\n",
    "\n",
    "iterations = 4000\n",
    "for i in range(1, iterations + 1):\n",
    "    loss, grads = compute_loss_and_grads(\n",
    "        combination_image, base_image, style_reference_image\n",
    "    )\n",
    "    optimizer.apply_gradients([(grads, combination_image)])\n",
    "    if i % 100 == 0:\n",
    "        print(f\"{i}번째 반복: loss={loss:.2f}\")\n",
    "        img = deprocess_image(combination_image.numpy())\n",
    "        fname = f\"rainyday_{i}.png\"\n",
    "        keras.utils.save_img(fname, img)"
   ]
  },
  {
   "cell_type": "code",
   "execution_count": null,
   "id": "a407cbe4",
   "metadata": {},
   "outputs": [],
   "source": []
  }
 ],
 "metadata": {
  "kernelspec": {
   "display_name": "base",
   "language": "python",
   "name": "python3"
  },
  "language_info": {
   "codemirror_mode": {
    "name": "ipython",
    "version": 3
   },
   "file_extension": ".py",
   "mimetype": "text/x-python",
   "name": "python",
   "nbconvert_exporter": "python",
   "pygments_lexer": "ipython3",
   "version": "3.12.7"
  }
 },
 "nbformat": 4,
 "nbformat_minor": 5
}
